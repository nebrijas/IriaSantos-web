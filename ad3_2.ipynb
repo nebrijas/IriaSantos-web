{
 "cells": [
  {
   "cell_type": "markdown",
   "metadata": {},
   "source": [
    "# Actividad voluntaria (actividad dirigida 3)"
   ]
  },
  {
   "cell_type": "markdown",
   "metadata": {},
   "source": [
    "Esta actividad, al igual que la [actividad obligatoria previa](ad3.md), consiste en realizar la programación literaria de un nuevo código, que se había había llevado a cabo en la materia de *Programación, aplicaciones, herramientas y soportes* por algún grupo de nuestros compañeros."
   ]
  },
  {
   "cell_type": "markdown",
   "metadata": {},
   "source": [
    "A continuación se muestra el código y se explica con programación literaria, como indica la actividad:"
   ]
  },
  {
   "cell_type": "markdown",
   "metadata": {},
   "source": [
    "## Código fuente"
   ]
  },
  {
   "cell_type": "markdown",
   "metadata": {},
   "source": [
    "```\n",
    "import random\n",
    "intentosRealizados = 0\n",
    "numero = random.randint(1, 100)\n",
    "print(\"Juego del Calamar. Adivina el número secreto o morirás.\")\n",
    "print(\"Quiero saber quién eres. Escribe tu nombre.\")\n",
    "nombre = input()\n",
    "print(\"Jugador\", nombre, \",\" \" tienes diez intentos para salvar tu vida. ¿Quieres continuar? Responde si o no.\")\n",
    "resp = input ()\n",
    "while (resp == \"si\",\"no\"):\n",
    "  if (resp == \"si\"):\n",
    "   print(\"Muy bien. Eres valiente. Escribe tu primer intento\")\n",
    "  if (resp == \"no\"):\n",
    "    print(\"Te jodiste. Igual debes continuar o morirás. Escribe tu primer intento.\")\n",
    "  break\n",
    "while intentosRealizados < 10:\n",
    " estimacion = input()\n",
    " estimacion = int(estimacion) \n",
    " intentosRealizados = intentosRealizados + 1\n",
    " if estimacion < numero:\n",
    "  print(\"Tu estimación es muy baja. Te quedan\", 10-intentosRealizados, \"intentos\")\n",
    " if estimacion > numero:\n",
    "  print('Tu estimación es muy alta. Te quedan', 10-intentosRealizados,\"intentos\")\n",
    " if estimacion == numero:\n",
    "  break;\n",
    "if estimacion == numero:\n",
    " print('¡Has adivinado el número secreto en ' , intentosRealizados , 'intentos! Te salvaste')\n",
    "if estimacion != numero:\n",
    " print('El número era', numero,\"; Vas a morir.\")\n",
    " ```"
   ]
  },
  {
   "cell_type": "markdown",
   "metadata": {},
   "source": [
    "Este código, denominado *Juego del Calamar*, es un código básico empleado en muchas ocasiones para el aprendizaje de programación. Se trata de un juego en el que el **usuario/jugador** debe **adivinar en menos de 10 intentos** el **número aleatorio que ha pensado la máquina** para ganar."
   ]
  },
  {
   "cell_type": "markdown",
   "metadata": {},
   "source": [
    "## ¿Cómo se lleva a cabo?"
   ]
  },
  {
   "cell_type": "markdown",
   "metadata": {},
   "source": [
    "### Importamos el módulo\n",
    "En el caso de esta actividad, tan solo empleamos la librería `random`, que no es necesario instalar, ya que se trata de un módulo propio de Python, que [permite generar números aleatorios](https://j2logo.com/python/generar-numeros-aleatorios-en-python/). "
   ]
  },
  {
   "cell_type": "code",
   "execution_count": 1,
   "metadata": {},
   "outputs": [],
   "source": [
    "import random"
   ]
  },
  {
   "cell_type": "markdown",
   "metadata": {},
   "source": [
    "### Objetos/variables\n",
    "A continuación, vamos a realizar una serie de objetos o variables:"
   ]
  },
  {
   "cell_type": "markdown",
   "metadata": {},
   "source": [
    "1. Primero añadiremos una variable con valor numérico de nombre `intentosRealizados` al que le daremos un valor inicial de **0**."
   ]
  },
  {
   "cell_type": "code",
   "execution_count": 2,
   "metadata": {},
   "outputs": [],
   "source": [
    "intentosRealizados = 0"
   ]
  },
  {
   "cell_type": "markdown",
   "metadata": {},
   "source": [
    "2. Le indicamos a la máquina que queremos crear una nueva variable de nombre `numero`, que consiste en la selección de un número aleatorio a través de la librería previamente creada. Para ello, se le indica que queremos que el número seleccionado sea un valor entre 0 y 100. El código para ello es `numero = random.randint(1, 100)`."
   ]
  },
  {
   "cell_type": "code",
   "execution_count": 3,
   "metadata": {},
   "outputs": [],
   "source": [
    "numero = random.randint(1, 100)"
   ]
  },
  {
   "cell_type": "markdown",
   "metadata": {},
   "source": [
    "3. Para continuar se imprimen dos textos: *Juego del Calamar. Adivina el número secreto o morirás.* y *Quiero saber quién eres. Escribe tu nombre.*. Estos códigos son impresos gracias a la llamada `print`."
   ]
  },
  {
   "cell_type": "code",
   "execution_count": 4,
   "metadata": {},
   "outputs": [
    {
     "name": "stdout",
     "output_type": "stream",
     "text": [
      "Juego del Calamar. Adivina el número secreto o morirás.\n",
      "Quiero saber quién eres. Escribe tu nombre.\n"
     ]
    }
   ],
   "source": [
    "print(\"Juego del Calamar. Adivina el número secreto o morirás.\")\n",
    "print(\"Quiero saber quién eres. Escribe tu nombre.\")"
   ]
  },
  {
   "cell_type": "markdown",
   "metadata": {},
   "source": [
    "4. Para que el **usuario/jugador** pueda escribir su nombre se hace una llamada a la variable `nombre = input()` con valor de entrada de texto. El **usuario/jugador** deberá escribir su nombre y pulsar *enter* para que este se registre y continúe el juego."
   ]
  },
  {
   "cell_type": "code",
   "execution_count": 5,
   "metadata": {},
   "outputs": [
    {
     "name": "stdout",
     "output_type": "stream",
     "text": [
      "Iria\n"
     ]
    }
   ],
   "source": [
    "nombre = input()"
   ]
  },
  {
   "cell_type": "markdown",
   "metadata": {},
   "source": [
    "5. Se imprimirá el texto *Jugador* (seguido del nombre)* , tienes diez intentos para salvar tu vida. ¿Quieres continuar? Responde si o no.* También usando la llamada `print`."
   ]
  },
  {
   "cell_type": "code",
   "execution_count": 6,
   "metadata": {},
   "outputs": [
    {
     "name": "stdout",
     "output_type": "stream",
     "text": [
      "Jugador Iria , tienes diez intentos para salvar tu vida. ¿Quieres continuar? Responde si o no.\n"
     ]
    }
   ],
   "source": [
    "print(\"Jugador\", nombre, \",\" \" tienes diez intentos para salvar tu vida. ¿Quieres continuar? Responde si o no.\")"
   ]
  },
  {
   "cell_type": "markdown",
   "metadata": {},
   "source": [
    "6. Se volverá a añadir una variable de entrada de texto, en este caso de nombre `resp`. El **usuario/jugador** deberá responder si o no. Se añade posteriormente un bucle `while` cuyas respuestas posibles son `si` y `no`. Mientras el resultado sea igual a `si` se imprimirá el texto *Muy bien. Eres valiente. Escribe tu primer intento*. Si la respuesta es `no` se imprimirá el texto *Te jodiste. Igual debes continuar o morirás. Escribe tu primer intento*. **Esto obligará al jugador a continuar con el juego**. Al no existir otras opciones, si la respuesta es otra no habrá ninguna impresión. "
   ]
  },
  {
   "cell_type": "code",
   "execution_count": 7,
   "metadata": {},
   "outputs": [
    {
     "name": "stdout",
     "output_type": "stream",
     "text": [
      "si\n",
      "Muy bien. Eres valiente. Escribe tu primer intento\n"
     ]
    }
   ],
   "source": [
    "resp = input ()\n",
    "while (resp == \"si\",\"no\"):\n",
    "  if (resp == \"si\"):\n",
    "   print(\"Muy bien. Eres valiente. Escribe tu primer intento\")\n",
    "  if (resp == \"no\"):\n",
    "    print(\"Te jodiste. Igual debes continuar o morirás. Escribe tu primer intento.\")\n",
    "  break"
   ]
  },
  {
   "cell_type": "markdown",
   "metadata": {},
   "source": [
    "7. De nuevo se añadirá un bucle `while`, pero en este caso el condicional es el número de intentos, que mientras es inferior a 10 estará en funcionamiento."
   ]
  },
  {
   "cell_type": "markdown",
   "metadata": {},
   "source": [
    "- Se creará una variable de entrada de datos con nombre `estimación`, que deberá ser obligatoriamente un entero, por ello se añade el siguiente código `estimacion = int(estimacion)`. \n",
    "- Cada intento realizado sumará un número a la variable creada inicialmente `intentosRealizados`.\n",
    "- Si la estimación es menor al número se imprimirá el texto: *Tu estimación es muy baja. Te quedan* (el número de intentos restantes) *intentos*.\n",
    "- Si la estimación es superior al número se imprimirá el texto: *Tu estimación es muy alta. Te quedan* (el número de intentos restantes) *intentos*.\n",
    "- Si la estimación es igual al número se acabará y se imprimirá el texto: *¡Has adivinado el número secreto en* (número de intentos) *intentos! Te salvaste*\n",
    "- Si la estimación es diferente al número se imprimirá: *El número era,* (número)*; Vas a morir.*"
   ]
  },
  {
   "cell_type": "code",
   "execution_count": 8,
   "metadata": {},
   "outputs": [
    {
     "name": "stdout",
     "output_type": "stream",
     "text": [
      "10\n",
      "Tu estimación es muy baja. Te quedan 9 intentos\n",
      "90\n",
      "Tu estimación es muy alta. Te quedan 8 intentos\n",
      "50\n",
      "Tu estimación es muy baja. Te quedan 7 intentos\n",
      "70\n",
      "Tu estimación es muy baja. Te quedan 6 intentos\n",
      "80\n",
      "Tu estimación es muy alta. Te quedan 5 intentos\n",
      "77\n",
      "Tu estimación es muy alta. Te quedan 4 intentos\n",
      "74\n",
      "Tu estimación es muy baja. Te quedan 3 intentos\n",
      "76\n",
      "Tu estimación es muy alta. Te quedan 2 intentos\n",
      "75\n",
      "¡Has adivinado el número secreto en  9 intentos! Te salvaste\n"
     ]
    }
   ],
   "source": [
    "while intentosRealizados < 10:\n",
    " estimacion = input()\n",
    " estimacion = int(estimacion) \n",
    " intentosRealizados = intentosRealizados + 1\n",
    " if estimacion < numero:\n",
    "  print(\"Tu estimación es muy baja. Te quedan\", 10-intentosRealizados, \"intentos\")\n",
    " if estimacion > numero:\n",
    "  print('Tu estimación es muy alta. Te quedan', 10-intentosRealizados,\"intentos\")\n",
    " if estimacion == numero:\n",
    "  break;\n",
    "if estimacion == numero:\n",
    " print('¡Has adivinado el número secreto en ' , intentosRealizados , 'intentos! Te salvaste')\n",
    "if estimacion != numero:\n",
    " print('El número era', numero,\"; Vas a morir.\")"
   ]
  },
  {
   "cell_type": "markdown",
   "metadata": {},
   "source": [
    "## Código fuente alternativo"
   ]
  },
  {
   "cell_type": "markdown",
   "metadata": {},
   "source": [
    "Un código fuente alternativo para un juego similar sería el que sigue:"
   ]
  },
  {
   "cell_type": "markdown",
   "metadata": {},
   "source": [
    "```\n",
    "import random\n",
    "import os\n",
    "\n",
    "ganadores = []\n",
    "\n",
    "while True:\n",
    "    intentosRealizados = 0\n",
    "    numero = random.randint(1, 100)\n",
    "    #print(numero) #DEBUG\n",
    "\n",
    "    print ('Dame tu nombre')\n",
    "    nombre = input()\n",
    "    os.system('clear')\n",
    "\n",
    "    print(nombre + ', adivina el número que estoy pensando entre 1 y 100 en menos de 20 intentos')\n",
    "\n",
    "    while intentosRealizados < 20:\n",
    "        print('Intenta adivinar')\n",
    "        estimacion = input()\n",
    "        estimacion = int(estimacion)\n",
    "        intentosRealizados = intentosRealizados+1\n",
    "        if estimacion < numero:\n",
    "            print('Tu estimacion es muy baja')\n",
    "        if estimacion > numero:\n",
    "            print('Tu estimacion es muy alta')\n",
    "        if estimacion == numero:\n",
    "            break\n",
    "\n",
    "    if estimacion == numero:\n",
    "        if intentosRealizados < 20:\n",
    "            ganadores.append([intentosRealizados, nombre])\n",
    "        intentosRealizados = str(intentosRealizados)\n",
    "        print('Has adivinado mi numero en ' + intentosRealizados + ' intentos!')\n",
    "\n",
    "    if estimacion != numero:\n",
    "        print('Pues no. El número que estaba pensando era el ' + numero)\n",
    "    \n",
    "    print('¿Nueva partida? ([Si]/No)')\n",
    "    seguir = input()\n",
    "    seguir = seguir.lower()\n",
    "    os.system('clear')\n",
    "    if seguir == 'no':\n",
    "        break\n",
    "\n",
    "os.system('clear')\n",
    "print ('Ranking:\\n')\n",
    "ganadores.sort()\n",
    "\n",
    "for i in range(len(ganadores)):\n",
    "    pos = str(i + 1)\n",
    "    print (pos + '. ' + ganadores[i][1] + ', ' + str(ganadores[i][0]) + ' intentos')\n",
    "```"
   ]
  },
  {
   "cell_type": "markdown",
   "metadata": {},
   "source": [
    "Ya que se trata de un código bastante similar, se comentarán las diferencias en el mismo:"
   ]
  },
  {
   "cell_type": "markdown",
   "metadata": {},
   "source": [
    "### Importar módulos\n",
    "Además del módulo `random`, también se importa el módulo `os`, que ya habíamos visto en la [Actividad 3](ad3.md) y que se trata de un módulo que permite el uso de código perteneciente al sistema operativo. Al igual que en esa actividad previa, este código sería el empleado para limpiar la pantalla con `os.system('clear')` y aquí tendría que hacerse con `cls()` para emplear con Jupyter."
   ]
  },
  {
   "cell_type": "code",
   "execution_count": null,
   "metadata": {},
   "outputs": [],
   "source": [
    "import os"
   ]
  },
  {
   "cell_type": "markdown",
   "metadata": {},
   "source": [
    "### Objetos/variables\n",
    "Se inicia con una variable de tipo lista vacía, también vista en la [Actividad 3](ad3.md), pero en este caso de nombre `ganadores`."
   ]
  },
  {
   "cell_type": "code",
   "execution_count": null,
   "metadata": {},
   "outputs": [],
   "source": [
    "ganadores = []"
   ]
  },
  {
   "cell_type": "markdown",
   "metadata": {},
   "source": [
    "A continuación se inicia un bucle de valor *booleano* con el valor True, ya que en todo caso será cierto para que se inicie el juego. Dentro de este bucle se añadin diferentes objetos o variables:"
   ]
  },
  {
   "cell_type": "markdown",
   "metadata": {},
   "source": [
    "1. Después de añadir las variables que ya se vieron en la versión previa de `intentosRealizados = 0` y `numero = random.randint(1, 100)` se añade `#print(numero) #DEBUG`, que al tener el `#` estará comentado y no tendrá valor, pero que en caso de quitarle esta almuadilla mostrará el valor de la máquina. Se trata de una trampa, que se comenta a la hora de mostrar el programa al **usuario/jugador**, pero que al estar destapado ayudará al programador a tener que dar menos vueltas para revisar los errores que pueda haber en el código."
   ]
  },
  {
   "cell_type": "code",
   "execution_count": null,
   "metadata": {},
   "outputs": [],
   "source": [
    "while True:\n",
    "    intentosRealizados = 0\n",
    "    numero = random.randint(1, 100)\n",
    "    #print(numero) #DEBUG\n",
    "\n",
    "    print ('Dame tu nombre')\n",
    "    nombre = input()\n",
    "    os.system('clear')\n",
    "\n",
    "    print(nombre + ', adivina el número que estoy pensando entre 1 y 100 en menos de 20 intentos')"
   ]
  },
  {
   "cell_type": "markdown",
   "metadata": {},
   "source": [
    "2. Se añade otro bucle basado en los intentos realizados, en el cuál el número máximo de intentos serán 20. El resto del código es similar, pero el texto impreso varía de forma leve."
   ]
  },
  {
   "cell_type": "code",
   "execution_count": null,
   "metadata": {},
   "outputs": [],
   "source": [
    "while intentosRealizados < 20:\n",
    "        print('Intenta adivinar')\n",
    "        estimacion = input()\n",
    "        estimacion = int(estimacion)\n",
    "        intentosRealizados = intentosRealizados+1\n",
    "        if estimacion < numero:\n",
    "            print('Tu estimacion es muy baja')\n",
    "        if estimacion > numero:\n",
    "            print('Tu estimacion es muy alta')\n",
    "        if estimacion == numero:\n",
    "            break"
   ]
  },
  {
   "cell_type": "markdown",
   "metadata": {},
   "source": [
    "3. Al acabar la partida, si la estimación es igual al número y el número de intentos es inferior a 20 se añadirá el nombre del **usuario/jugador** a la lista vacía inicial. También se imprimirá el mensaje de felicitación. En caso contrario, se le dirá cuál es el número. Posteriormente se imprimirá la pregunta de si quiere jugar una partida nueva. \n",
    "4. Se crea la variable `seguir` con un valor de entrada de texto. Al escribir la respuesta se añade a la variable la respuesta. \n",
    "5. Posteriormente se limpia la pantalla.\n",
    "6. Si el valor se corresponde con `no` finalizará el juego."
   ]
  },
  {
   "cell_type": "code",
   "execution_count": null,
   "metadata": {},
   "outputs": [],
   "source": [
    "if estimacion == numero:\n",
    "        if intentosRealizados < 20:\n",
    "            ganadores.append([intentosRealizados, nombre])\n",
    "        intentosRealizados = str(intentosRealizados)\n",
    "        print('Has adivinado mi numero en ' + intentosRealizados + ' intentos!')\n",
    "\n",
    "    if estimacion != numero:\n",
    "        print('Pues no. El número que estaba pensando era el ' + numero)\n",
    "    \n",
    "    print('¿Nueva partida? ([Si]/No)')\n",
    "    seguir = input()\n",
    "    seguir = seguir.lower()\n",
    "    os.system('clear')\n",
    "    if seguir == 'no':\n",
    "        break"
   ]
  },
  {
   "cell_type": "markdown",
   "metadata": {},
   "source": [
    "6.a. De ser así se limpiará la pantalla y se imprimirá el *ranking* con el nombre de los jugadores que hayan conseguido adivinar el número en menos de 20 intentos.\n",
    "6.b. El siguiente bucle `for` indica que la lista `ganadores` estará ordenada por la posición de los jugadores en el ranking, dónde a menor número de intentos antes aparecerá en el listado el nombre. Se imprimirá de esta forma la posición, el nombre y el número de intentos realizados."
   ]
  },
  {
   "cell_type": "code",
   "execution_count": null,
   "metadata": {},
   "outputs": [],
   "source": [
    "os.system('clear')\n",
    "print ('Ranking:\\n')\n",
    "ganadores.sort()\n",
    "\n",
    "for i in range(len(ganadores)):\n",
    "    pos = str(i + 1)\n",
    "    print (pos + '. ' + ganadores[i][1] + ', ' + str(ganadores[i][0]) + ' intentos')"
   ]
  }
 ],
 "metadata": {
  "kernelspec": {
   "display_name": "Python 3",
   "language": "python",
   "name": "python3"
  },
  "language_info": {
   "codemirror_mode": {
    "name": "ipython",
    "version": 3
   },
   "file_extension": ".py",
   "mimetype": "text/x-python",
   "name": "python",
   "nbconvert_exporter": "python",
   "pygments_lexer": "ipython3",
   "version": "3.7.4"
  }
 },
 "nbformat": 4,
 "nbformat_minor": 2
}
